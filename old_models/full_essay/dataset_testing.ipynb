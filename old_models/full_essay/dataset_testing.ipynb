{
 "cells": [
  {
   "cell_type": "code",
   "execution_count": 1,
   "id": "590ea5a1-c47e-4b88-9dd4-05335f25dbf1",
   "metadata": {},
   "outputs": [],
   "source": [
    "from full_data import data_preparator\n",
    "import os"
   ]
  },
  {
   "cell_type": "code",
   "execution_count": null,
   "id": "3a977ea9-4372-40fe-a34e-51469a62c064",
   "metadata": {},
   "outputs": [
    {
     "name": "stdout",
     "output_type": "stream",
     "text": [
      "dict_keys(['id', 'ner_tags', 'tokens'])\n"
     ]
    },
    {
     "name": "stderr",
     "output_type": "stream",
     "text": [
      "  0%|                                                                                                                                                                   | 0/402 [00:00<?, ?it/s]"
     ]
    },
    {
     "name": "stdin",
     "output_type": "stream",
     "text": [
      "left 0, center 0, right 1 \n",
      "left 0, center 1, right 2 \n",
      "left 1, center 2, right 2 \n",
      "left 2, center 2, right 0 \n",
      "left 2, center 0, right 0 \n",
      "left 0, center 0, right 3 \n",
      "left 0, center 3, right 4 \n",
      "left 3, center 4, right 4 \n",
      "left 4, center 4, right 0 \n",
      "left 4, center 0, right 5 \n",
      "left 0, center 5, right 6 \n",
      "left 5, center 6, right 6 \n",
      "left 6, center 6, right 0 \n",
      "left 6, center 0, right 5 \n",
      "left 0, center 5, right 6 \n",
      "left 5, center 6, right 6 \n",
      "left 6, center 6, right 0 \n",
      "left 6, center 0, right 5 \n",
      "left 0, center 5, right 6 \n",
      "left 5, center 6, right 6 \n",
      "left 6, center 6, right 0 \n",
      "left 6, center 0, right 0 \n",
      "left 0, center 0, right 5 \n",
      "left 0, center 5, right 6 \n",
      "left 5, center 6, right 6 \n",
      "left 6, center 6, right 0 \n",
      "left 6, center 0, right 0 \n",
      "left 0, center 0, right 3 \n",
      "left 0, center 3, right 4 \n",
      "left 3, center 4, right 4 \n",
      "left 4, center 4, right 0 \n",
      "left 4, center 0, right 0 \n",
      "left 0, center 0, right 5 \n",
      "left 0, center 5, right 6 \n",
      "left 5, center 6, right 6 \n",
      "left 6, center 6, right 0 \n",
      "left 6, center 0, right 0 \n",
      "left 0, center 0, right 5 \n",
      "left 0, center 5, right 6 \n",
      "left 5, center 6, right 6 \n",
      "left 6, center 6, right 0 \n",
      "left 6, center 0, right 0 \n",
      "left 0, center 0, right 3 \n",
      "left 0, center 3, right 4 \n",
      "left 3, center 4, right 4 \n",
      "left 4, center 4, right 0 \n",
      "left 4, center 0, right 0 \n",
      "left 0, center 0, right 1 \n",
      "left 0, center 1, right 2 \n",
      "left 1, center 2, right 2 \n",
      "left 2, center 2, right 0 \n"
     ]
    },
    {
     "name": "stderr",
     "output_type": "stream",
     "text": [
      "  0%|▍                                                                                                                                                      | 1/402 [02:46<18:35:52, 166.96s/it]"
     ]
    },
    {
     "name": "stdout",
     "output_type": "stream",
     "text": [
      "here we got a break\n"
     ]
    },
    {
     "name": "stdin",
     "output_type": "stream",
     "text": [
      "left 0, center 0, right 1 \n",
      "left 0, center 1, right 2 \n",
      "left 1, center 2, right 2 \n",
      "left 2, center 2, right 0 \n",
      "left 2, center 0, right 0 \n",
      "left 0, center 0, right 5 \n",
      "left 0, center 5, right 6 \n",
      "left 5, center 6, right 6 \n",
      "left 6, center 6, right 0 \n",
      "left 6, center 0, right 5 \n",
      "left 0, center 5, right 6 \n",
      "left 5, center 6, right 6 \n",
      "left 6, center 6, right 0 \n",
      "left 6, center 0, right 5 \n",
      "left 0, center 5, right 6 \n",
      "left 5, center 6, right 6 \n",
      "left 6, center 6, right 0 \n",
      "left 6, center 0, right 5 \n",
      "left 0, center 5, right 6 \n",
      "left 5, center 6, right 6 \n",
      "left 6, center 6, right 0 \n",
      "left 6, center 0, right 0 \n",
      "left 0, center 0, right 3 \n",
      "left 0, center 3, right 4 \n",
      "left 3, center 4, right 4 \n"
     ]
    }
   ],
   "source": [
    "dp = data_preparator()\n",
    "essays = dp.get_essay_list(os.path.join(os.pardir, os.pardir, \"data\", \"essay.json\"))\n",
    "# throw away the dataset and labels we dont need here\n",
    "raw_datasets, feat_ner_tags = dp.get_dataset_spans_labels(\n",
    "    essays,\n",
    "    0.2,\n",
    "    0.1,\n",
    ")"
   ]
  },
  {
   "cell_type": "code",
   "execution_count": null,
   "id": "de61c01f-1c77-4aa5-8642-4bb9d3946f4a",
   "metadata": {},
   "outputs": [],
   "source": [
    "feat_ner_tags\n"
   ]
  },
  {
   "cell_type": "code",
   "execution_count": null,
   "id": "fb05aece-d32a-43e0-b598-c5ec53d1a7b2",
   "metadata": {},
   "outputs": [],
   "source": [
    "raw_datasets"
   ]
  },
  {
   "cell_type": "code",
   "execution_count": null,
   "id": "61494453-47d7-4f5a-b5d0-bc0cca74340e",
   "metadata": {},
   "outputs": [],
   "source": [
    "raw_datasets[\"train\"][0]"
   ]
  },
  {
   "cell_type": "code",
   "execution_count": null,
   "id": "98fd2a37-8e98-4eb2-9d6b-c5e1b39686ef",
   "metadata": {},
   "outputs": [],
   "source": [
    "raw_datasets[\"train\"][0].keys()"
   ]
  },
  {
   "cell_type": "code",
   "execution_count": null,
   "id": "c822462f-b879-4503-9e19-fde80c393004",
   "metadata": {},
   "outputs": [],
   "source": []
  }
 ],
 "metadata": {
  "kernelspec": {
   "display_name": "Python 3 (ipykernel)",
   "language": "python",
   "name": "python3"
  },
  "language_info": {
   "codemirror_mode": {
    "name": "ipython",
    "version": 3
   },
   "file_extension": ".py",
   "mimetype": "text/x-python",
   "name": "python",
   "nbconvert_exporter": "python",
   "pygments_lexer": "ipython3",
   "version": "3.8.17"
  }
 },
 "nbformat": 4,
 "nbformat_minor": 5
}
